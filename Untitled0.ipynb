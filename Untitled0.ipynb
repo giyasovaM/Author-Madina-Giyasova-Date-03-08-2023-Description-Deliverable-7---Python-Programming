{
  "nbformat": 4,
  "nbformat_minor": 0,
  "metadata": {
    "colab": {
      "provenance": []
    },
    "kernelspec": {
      "name": "python3",
      "display_name": "Python 3"
    },
    "language_info": {
      "name": "python"
    }
  },
  "cells": [
    {
      "cell_type": "markdown",
      "source": [
        "Author: Madina Giyasova Date: 03/08/2023 Description: Deliverable (7) - Python Programming \n"
      ],
      "metadata": {
        "id": "li0MC-kb0hJ6"
      }
    },
    {
      "cell_type": "code",
      "source": [
        "input = int(input(\"Please enter an inteher greater than 0: \"))"
      ],
      "metadata": {
        "id": "KGACmXol0V30",
        "colab": {
          "base_uri": "https://localhost:8080/"
        },
        "outputId": "18666f39-637e-4422-be09-12a961a051aa"
      },
      "execution_count": 3,
      "outputs": [
        {
          "name": "stdout",
          "output_type": "stream",
          "text": [
            "Please enter an inteher greater than 0: 4\n"
          ]
        }
      ]
    },
    {
      "cell_type": "code",
      "source": [
        "even_numbers = []\n",
        "odd_numbers = []\n",
        "fibonacci_numbers = [0,1]"
      ],
      "metadata": {
        "id": "SOMFF7RfzXJi"
      },
      "execution_count": 7,
      "outputs": []
    },
    {
      "cell_type": "code",
      "source": [
        "if input > 0:\n",
        "\n",
        "    for num in range(2,input+1):\n",
        "        fibonacci_numbers.append(fibonacci_numbers[num - 1] + fibonacci_numbers[num - 2])\n",
        "        \n",
        "    for number in range(input):\n",
        "        even_numbers.append(2*number)\n",
        "        odd_numbers.append(2*number+1)\n",
        "\n",
        "    print(\"-\"*37)\n",
        "    print(\"|{:^5}|{:^8}|{:^8}|{:^12}|\".format(\"\",\"Even\",\"Odd\",\"Fibonacci\"))\n",
        "    print(\"-\"*37)\n",
        "    \n",
        "    for index in range(input):\n",
        "        print(\"|{:^5}|{:^8}|{:^8}|{:^12}|\".format(index,even_numbers[index],odd_numbers[index],fibonacci_numbers[index]))\n",
        "        print(\"-\"*37)"
      ],
      "metadata": {
        "id": "kwi2lGVszaS3",
        "colab": {
          "base_uri": "https://localhost:8080/"
        },
        "outputId": "14e52ea0-65f5-4f32-836c-3838bd3c599c"
      },
      "execution_count": 6,
      "outputs": [
        {
          "output_type": "stream",
          "name": "stdout",
          "text": [
            "-------------------------------------\n",
            "|     |  Even  |  Odd   | Fibonacci  |\n",
            "-------------------------------------\n",
            "|  0  |   0    |   1    |     0      |\n",
            "-------------------------------------\n",
            "|  1  |   2    |   3    |     1      |\n",
            "-------------------------------------\n",
            "|  2  |   4    |   5    |     1      |\n",
            "-------------------------------------\n",
            "|  3  |   6    |   7    |     2      |\n",
            "-------------------------------------\n"
          ]
        }
      ]
    },
    {
      "cell_type": "markdown",
      "source": [],
      "metadata": {
        "id": "KA3b-f5ez27P"
      }
    }
  ]
}